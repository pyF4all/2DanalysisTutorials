{
 "cells": [
  {
   "cell_type": "code",
   "execution_count": 4,
   "metadata": {},
   "outputs": [
    {
     "data": {
      "application/vnd.jupyter.widget-view+json": {
       "model_id": "b84f063122004dfead34098cf96a6242",
       "version_major": 2,
       "version_minor": 0
      },
      "text/plain": []
     },
     "metadata": {},
     "output_type": "display_data"
    }
   ],
   "source": [
    "import sys\n",
    "sys.path.insert(0,'/home/antonio/Desktop/VIRMAT/2Danalysis/2Danalysis_wMDA/')\n",
    "from protein2D_analysis import BioPolymer2D # type: ignore\n",
    "import MDAnalysis as mda\n",
    "import matplotlib.pyplot as plt\n",
    "import numpy as np\n",
    "import pandas as pd\n",
    "import nglview as nv\n"
   ]
  },
  {
   "cell_type": "markdown",
   "metadata": {},
   "source": [
    "#  **BioPolymer2D** class\n",
    "\n",
    "BioPolymer2D is an object-oriented class based on MDAnalysis that is part of the twod_analysis toolkit package that is initialized by an MDAnalysis Universe or Atom Group, enabling the use of universes and Atom groups that have been previously initialized to be used for built-in MDAnalysis methods.\n",
    "\n",
    "Tipically, polymeric biomolecules (biopolymers), such as proteins, peptides and nucleic acid, interactions are studied in 3D since the dynamics and interactions are present in all degrees of freedom. When the biopolymer is interacting with a flat 2-dimentional surface, this approach could give results that are hard for interpretation by overstimating dynamics that are far from the adsorption regime or dynamics on the Z directions. In this class, we propose four analysis funtions that will be focused in retrieving detailed information on the adsorption mechanisms of biopolymers onto surfaces:\n",
    "\n",
    "1. **Polar Histogram analysis**:\n",
    "Polar histogram of residues from the center of mass of a given selection of atoms. This type of analysis gives detailed information on the distribution of the positions of the residues over the simulations. These histograms can be interpreted as probability distribution histograms (PDF) of the residues, and therefore the width of the histogram is an indicative of the flexiblity of the residues. This analysis has been previously used in Supplementary information of [Bosch, A.M.,et al](https://pubs.acs.org/doi/10.1021/acs.jcim.4c00460).\n",
    "\n",
    "2. **KDE density contour analysis**:\n",
    "Using the seaborn.kde_plot function makes a contour plot of selected residues from a selection of residues using only a set of adsorpbed to the surface frames of the simulation, and is able to compute the areas of a given contour level. Similarly to the polar plot, the area of the contour plots can give information on the flexibility of the residue, but also give insight on the the specificity of the interactions depending on the chosen level of the contour plot that is selected to compute the area. \n",
    "\n",
    "Analogue to polar analysis, these KDE position density contours are 2-dimentional probability distribution histograms. Therefore, by measuring the area of diferent contour levels you can measure diferent properties if the interaction, for instance,\n",
    "*  By computing th area of the lower contour levels, you can sample all the available spaces states in the X and Y axis which is an indicative of how flexible (\"entropic\") is the system. That is, higher area values at the lowest contour levels shows more flexibility. \n",
    "\n",
    "* On the other hand, by computng the area of higher contour level, you can sample the available space state of the peak of the distribution, giving insight on the specificity of the interaction. That is, lower area values at the highest contour levels show more specificity. \n",
    "3. **Parallel and perpendicular radii of gyration**:\n",
    "Computes the standard 3D ($R_g$), parallel ($R_{g\\parallel}$) and perpendicular ($R_{g\\perp}$) radii of gyration.\n",
    "\n",
    "$$R_{\\textrm{g}}= \\sqrt{ \\frac{1}{m_T}\\sum_{i} m_{i}\\left[ (x_i-x_{\\textrm{CM}})^2+(y_i-y_{\\text{CM}})^2+(z_i-z_{\\text{CM}})^2\\right]}$$\n",
    "$$R_{\\textrm{g}\\parallel}= \\sqrt{ \\frac{1}{m_T}\\sum_{i} m_{i}\\left[ (x_i-x_{\\textrm{CM}})^2+(y_i-y_{\\text{CM}})^2\\right]}$$\n",
    "$$R_{\\textrm{g}\\perp} = \\sqrt{\\frac{1}{m_T}\\sum_{i} m_{i} (z_i-z_{\\text{CM}})^2,}$$\n",
    "\n",
    "where ${\\bf R}_{\\textrm{CM}}=(x_{\\textrm{CM}}$, $y_{\\textrm{CM}}$, $z_{\\textrm{CM}})$ is the position of the center of mass, $m_{i}$ the mass of each residue and $m_T$ the total mass of the residues.\n",
    "\n",
    "The parallel and perpendicular radii of gyration gives strutural information during the adsorption,\n",
    "\n",
    "* $R_{g\\parallel}$: Gives information on how the biopolymer is expanded by the sides (parallel to the surface). \n",
    "\n",
    "* $R_{g\\perp}$ : Gives information on how the biopolymer is streched or flattened.\n",
    "\n",
    "and, if compared to native environment, it can give insight on the deformation of the biopolymer due to the surface presence, as was done in [Bosch, A.M.,et al](https://pubs.acs.org/doi/10.1021/acs.jcim.4c00460), where we compare these values for the open SARS-CoV2 RBD onto polarizable bilayers to its native ACE2 enzyme.\n",
    "\n",
    "Note that $R_{g\\parallel}$ and $R_{g\\perp}$ are not necesarilly correlated since secondary strucutures as biomolecules have cavities. This is specilly true for proteins.\n",
    "\n",
    "When these values are computed, there the posibility to generate a plot indicating $\\langle R_{g\\perp}^2 \\rangle /\\langle R_{g\\parallel}^2 \\rangle$ ratio, which is relevant in polymer theory ([**ADD CITATIONS**]) when studying polymer adsorption, and a $R_{g\\perp}$ vs $R_{g\\parallel}$ plot similar to FIG1.\n",
    "\n",
    "\n",
    "![title](\"images/TOC12_Final.png\")\n",
    "\n",
    "4. H-bonds per residues:\n",
    "\n",
    "In order to further understand the present interactions between surfaces and the biopolymer, this tool computes the Hbonds of each residue in a selection of residues during the simulation. As an output you will have a table sorted from the residues with most to the least Hbonds, and there is the posibitly to have a plot show the center of mass of the residues from a bottom perspective. This tool uses MDAnalysis protocol to compute Hbonds which is a geometric approach of Hbond computation, and uses MDAnalysis default parameters to compute them. \n",
    "\n"
   ]
  },
  {
   "cell_type": "markdown",
   "metadata": {},
   "source": [
    "## Case of study 4: SARS-CoV2 RBD with glycans in highly hydrophobic and hydrophyilic surfaces with **BioPolymer2D** class"
   ]
  },
  {
   "cell_type": "markdown",
   "metadata": {},
   "source": [
    "In this tutorial, we will be using the BioPolymer2D to analyze the adsorption mechanisms of a protein onto a surface. In this case, we will be using the SARS-CoV2 RBD with glycans where we will be able to compare flexibility of Glycans vs flexbility of protein. It is expected glycans to be more flexible than proteins since protein have secondary structures that reduces the degrees of freedom of the atoms. \n",
    "\n",
    "\n",
    "By running the cell below, we can see our system that is given"
   ]
  },
  {
   "cell_type": "code",
   "execution_count": 47,
   "metadata": {},
   "outputs": [
    {
     "data": {
      "application/vnd.jupyter.widget-view+json": {
       "model_id": "541a263a51be4002a6de0ecc18245c8a",
       "version_major": 2,
       "version_minor": 0
      },
      "text/plain": [
       "NGLWidget(layout=Layout(height='400px', width='500px'), max_frame=1500)"
      ]
     },
     "metadata": {},
     "output_type": "display_data"
    }
   ],
   "source": [
    "trj_path='/home/antonio/Desktop/VIRMAT/Paper_PB_KDE/SIMs/RBD-PBLs_wGlyc_closed_layed/glyc_head/rep1/omicron_10/'\n",
    "u=mda.Universe(f\"{trj_path}md_0_1.tpr\",f\"{trj_path}md_short_compact.xtc\")\n",
    "sel = u.select_atoms(\"resid 193-200 or protein\")\n",
    "view=nv.show_mdanalysis(u)\n",
    "# Selection of molecules in Polariable Bilayer (PBL)\n",
    "resname_dol = u.select_atoms(\"resname DOL\")\n",
    "# Selection of molecules in protein\n",
    "prot = u.select_atoms(\"protein\")\n",
    "# Selection of molecules in Glycan\n",
    "glyc = u.select_atoms(\"resname BGLCNA AFUC BMAN AMAN\")\n",
    "view.clear_representations()\n",
    "view.add_representation('surface', selection=resname_dol.atoms.indices,color='yellow')\n",
    "view.add_representation('cartoon', selection=prot.atoms.indices,color='black')\n",
    "view.add_representation('licorice', selection=glyc.atoms.indices,color='red')\n",
    "\n",
    "view.layout.width = '500px'  # Set the width\n",
    "view.layout.height = '400px'  # Set the height\n",
    "view.center()\n",
    "# Display the view\n",
    "view"
   ]
  },
  {
   "cell_type": "markdown",
   "metadata": {},
   "source": [
    "Although, the whole trajectory can be seen in the latter outout is not recommended, since reproduction will be slow. In such case, uncomment lines below."
   ]
  },
  {
   "cell_type": "code",
   "execution_count": null,
   "metadata": {},
   "outputs": [],
   "source": [
    "\n",
    "### Uncomment if you want to see the trajectory\n",
    "# t = nv.MDAnalysisTrajectory(u.select_atoms('protein or resname DOL or resname AFUC BMAN AMAN BGLCNA'))\n",
    "# w = nv.NGLWidget(t)\n",
    "# w"
   ]
  },
  {
   "cell_type": "code",
   "execution_count": null,
   "metadata": {},
   "outputs": [],
   "source": [
    "ag_analysis = BioPolymer2D(sel)\n",
    "ag_analysis.system_name='Omicron PBL1'"
   ]
  }
 ],
 "metadata": {
  "kernelspec": {
   "display_name": "MDA",
   "language": "python",
   "name": "python3"
  },
  "language_info": {
   "codemirror_mode": {
    "name": "ipython",
    "version": 3
   },
   "file_extension": ".py",
   "mimetype": "text/x-python",
   "name": "python",
   "nbconvert_exporter": "python",
   "pygments_lexer": "ipython3",
   "version": "3.12.5"
  }
 },
 "nbformat": 4,
 "nbformat_minor": 2
}
